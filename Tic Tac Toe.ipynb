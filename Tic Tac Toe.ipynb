{
 "cells": [
  {
   "cell_type": "code",
   "execution_count": 1,
   "metadata": {},
   "outputs": [],
   "source": [
    "from IPython.display import clear_output\n",
    "\n",
    "def display_board(board):\n",
    "    clear_output()\n",
    "    print(' {} |'.format(board[7]),end=\"\")\n",
    "    print(' {} |'.format(board[8]),end=\"\")\n",
    "    print(' {} '.format(board[9]))\n",
    "    print('-----------')\n",
    "    print(' {} |'.format(board[4]),end=\"\")\n",
    "    print(' {} |'.format(board[5]),end=\"\")\n",
    "    print(' {} '.format(board[6]))\n",
    "    print('-----------')\n",
    "    print(' {} |'.format(board[1]),end=\"\")\n",
    "    print(' {} |'.format(board[2]),end=\"\")\n",
    "    print(' {} '.format(board[3]))"
   ]
  },
  {
   "cell_type": "code",
   "execution_count": 2,
   "metadata": {},
   "outputs": [
    {
     "name": "stdout",
     "output_type": "stream",
     "text": [
      " X | O | X \n",
      "-----------\n",
      " O | X | O \n",
      "-----------\n",
      " X | O | X \n"
     ]
    }
   ],
   "source": [
    "test_board = ['#','X','O','X','O','X','O','X','O','X']\n",
    "display_board(test_board)"
   ]
  },
  {
   "cell_type": "code",
   "execution_count": 3,
   "metadata": {},
   "outputs": [],
   "source": [
    "def player_input():\n",
    "    while True:\n",
    "        ch=input(\"Player 1 choose your marker 'X or 'O' : \")\n",
    "        if(ch not in ('X','O')):\n",
    "            print(\"Enter valid input!\")\n",
    "            continue\n",
    "        break\n",
    "    play1=ch\n",
    "    if(play1=='X'):\n",
    "        play2='O'\n",
    "    else:\n",
    "        play2='X'\n",
    "    return (play1,play2)"
   ]
  },
  {
   "cell_type": "code",
   "execution_count": 4,
   "metadata": {},
   "outputs": [],
   "source": [
    "def place_marker(board, marker, position):\n",
    "    board[position]=marker"
   ]
  },
  {
   "cell_type": "code",
   "execution_count": 5,
   "metadata": {},
   "outputs": [
    {
     "name": "stdout",
     "output_type": "stream",
     "text": [
      " X | $ | X \n",
      "-----------\n",
      " O | X | O \n",
      "-----------\n",
      " X | O | X \n"
     ]
    }
   ],
   "source": [
    "place_marker(test_board,'$',8)\n",
    "display_board(test_board)"
   ]
  },
  {
   "cell_type": "code",
   "execution_count": 6,
   "metadata": {},
   "outputs": [],
   "source": [
    "def win_check(board, mark):\n",
    "    pos=[(7,8,9),(4,5,6),(1,2,3),(7,4,1),(8,5,2),(9,6,3),(7,5,3),(9,5,1)]\n",
    "    for (a,b,c) in pos:\n",
    "        if(board[a]==mark)and(board[b]==mark)and(board[c]==mark):\n",
    "            return True\n",
    "    return False"
   ]
  },
  {
   "cell_type": "code",
   "execution_count": 7,
   "metadata": {},
   "outputs": [
    {
     "data": {
      "text/plain": [
       "True"
      ]
     },
     "execution_count": 7,
     "metadata": {},
     "output_type": "execute_result"
    }
   ],
   "source": [
    "test_board = ['#','X','O','X','O','X','O','X','O','X']\n",
    "win_check(test_board,'X')"
   ]
  },
  {
   "cell_type": "code",
   "execution_count": 8,
   "metadata": {},
   "outputs": [],
   "source": [
    "import random\n",
    "\n",
    "def choose_first():\n",
    "    play=random.randint(1,2)\n",
    "    print(f\"Player {play} will go first\")\n",
    "    return play"
   ]
  },
  {
   "cell_type": "code",
   "execution_count": 9,
   "metadata": {},
   "outputs": [
    {
     "name": "stdout",
     "output_type": "stream",
     "text": [
      "Player 2 will go first\n"
     ]
    },
    {
     "data": {
      "text/plain": [
       "2"
      ]
     },
     "execution_count": 9,
     "metadata": {},
     "output_type": "execute_result"
    }
   ],
   "source": [
    "choose_first()"
   ]
  },
  {
   "cell_type": "code",
   "execution_count": 10,
   "metadata": {},
   "outputs": [],
   "source": [
    "def space_check(board, position):\n",
    "    return(board[position]==' ')"
   ]
  },
  {
   "cell_type": "code",
   "execution_count": 11,
   "metadata": {},
   "outputs": [],
   "source": [
    "def full_board_check(board):\n",
    "    for i in range(1,10):\n",
    "        if space_check(board, i):\n",
    "            return False\n",
    "    return True"
   ]
  },
  {
   "cell_type": "code",
   "execution_count": 12,
   "metadata": {},
   "outputs": [],
   "source": [
    "def player_choice(board):\n",
    "    position = 0\n",
    "    \n",
    "    while position not in [1,2,3,4,5,6,7,8,9] or not space_check(board, position):\n",
    "        position = int(input('Choose your next position: (1-9) '))\n",
    "        \n",
    "    return position"
   ]
  },
  {
   "cell_type": "code",
   "execution_count": 13,
   "metadata": {},
   "outputs": [],
   "source": [
    "def replay():\n",
    "    while True:\n",
    "        a=input(\"Do you want to play again?(Y/N) : \")\n",
    "        if(a=='Y'):\n",
    "            return True\n",
    "        elif(a=='N'):\n",
    "            return False\n",
    "        else:\n",
    "            print(\"Enter valid input!\")\n",
    "            continue"
   ]
  },
  {
   "cell_type": "code",
   "execution_count": 15,
   "metadata": {},
   "outputs": [
    {
     "name": "stdout",
     "output_type": "stream",
     "text": [
      " X |   |   \n",
      "-----------\n",
      " O | X | O \n",
      "-----------\n",
      " X | O | X \n",
      "Player 1 won! Congratulations!\n",
      "Do you want to play again?(Y/N) : N\n"
     ]
    }
   ],
   "source": [
    "print('Welcome to Tic Tac Toe!')\n",
    "\n",
    "while True:\n",
    "    # Set the game up here\n",
    "    board = ['#',' ',' ',' ',' ',' ',' ',' ',' ',' ']\n",
    "    marker={'1':'','2':''}\n",
    "    (a,b)=player_input()\n",
    "    marker['1']=a\n",
    "    marker['2']=b\n",
    "    winner =0\n",
    "    first=choose_first()\n",
    "    display_board(board)\n",
    "    print(\"Player {} will go first\".format(first))\n",
    "    ch=input('Ready to play?(Y/N)')\n",
    "    if(ch=='Y'):\n",
    "        ch=True\n",
    "    \n",
    "    while (ch):\n",
    "        \n",
    "        #Player 1 Turn\n",
    "        if(first==1):\n",
    "            display_board(board)\n",
    "            pos=player_choice(board)\n",
    "            place_marker(board,marker['1'],pos)\n",
    "            if win_check(board,marker['1']):\n",
    "                winner=1\n",
    "                break\n",
    "            else:\n",
    "                if full_board_check(board):\n",
    "                    display_board(board)\n",
    "                    print('The game is a draw!')\n",
    "                    break\n",
    "                else:\n",
    "                    first=2\n",
    "            \n",
    "        # Player2's turn.\n",
    "        if(first==2):\n",
    "            display_board(board)\n",
    "            pos=player_choice(board)\n",
    "            place_marker(board,marker['2'],pos)\n",
    "            if win_check(board,marker['2']):\n",
    "                winner=2\n",
    "                break\n",
    "            else:\n",
    "                if full_board_check(board):\n",
    "                    display_board(board)\n",
    "                    print('The game is a draw!')\n",
    "                    break\n",
    "                else:\n",
    "                    first=1\n",
    "        \n",
    "    display_board(board)\n",
    "    if(winner == 1):\n",
    "        print(\"Player 1 won! Congratulations!\")\n",
    "    elif(winner == 2):\n",
    "        print(\"Player 2 won! Congratulations!\")\n",
    "    else:\n",
    "        print(\"The game is draw!\")\n",
    "           \n",
    "    if not replay():\n",
    "        break"
   ]
  },
  {
   "cell_type": "code",
   "execution_count": null,
   "metadata": {},
   "outputs": [],
   "source": []
  }
 ],
 "metadata": {
  "kernelspec": {
   "display_name": "Python 3",
   "language": "python",
   "name": "python3"
  },
  "language_info": {
   "codemirror_mode": {
    "name": "ipython",
    "version": 3
   },
   "file_extension": ".py",
   "mimetype": "text/x-python",
   "name": "python",
   "nbconvert_exporter": "python",
   "pygments_lexer": "ipython3",
   "version": "3.7.1"
  }
 },
 "nbformat": 4,
 "nbformat_minor": 2
}
